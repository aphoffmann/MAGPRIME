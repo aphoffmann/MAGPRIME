{
 "cells": [
  {
   "cell_type": "markdown",
   "metadata": {},
   "source": [
    "# Gradiometry Simulation"
   ]
  },
  {
   "cell_type": "code",
   "execution_count": 30,
   "metadata": {},
   "outputs": [],
   "source": [
    "import magpylib as magpy\n",
    "import numpy as np\n",
    "import matplotlib.pyplot as plt\n",
    "import pandas as pd\n",
    "from scipy import signal\n",
    "import random\n",
    "from scipy.signal import chirp\n",
    "import scipy.spatial.transform as st\n"
   ]
  },
  {
   "cell_type": "markdown",
   "metadata": {},
   "source": [
    "Functions to load noise"
   ]
  },
  {
   "cell_type": "code",
   "execution_count": 10,
   "metadata": {},
   "outputs": [],
   "source": [
    "def noiseReactionWheel(fs, N, base_freq, seed):\n",
    "    np.random.seed(seed) \n",
    "    shift_freq = np.random.uniform(1, base_freq)\n",
    "    duration = int(np.random.uniform(1, 5))\n",
    "    time_of_shift = np.random.randint(0, (N/fs) - (2*duration))\n",
    "\n",
    "    # Define time array.\n",
    "    t = np.arange(N) / fs\n",
    "\n",
    "    # Create signal.\n",
    "    signal_rw = np.sin(2 * np.pi * base_freq * t)\n",
    "\n",
    "    # Create down-chirp signal.\n",
    "    down_chirp_signal = chirp(t[:duration*fs], base_freq, duration, shift_freq, method='hyperbolic')\n",
    "    # Create up-chirp signal\n",
    "    up_chirp_signal = chirp(t[:duration*fs], shift_freq, duration, base_freq, method='hyperbolic')\n",
    "\n",
    "    # Modify original signal with chirp signal.\n",
    "    signal_rw[time_of_shift*fs:(time_of_shift+duration)*fs] = down_chirp_signal\n",
    "    signal_rw[(time_of_shift+duration)*fs:(time_of_shift+2*duration)*fs] = up_chirp_signal\n",
    "\n",
    "    return signal_rw\n",
    "\n",
    "def noiseMichibiki():\n",
    "    \"Import the magnetometer data from the file\"\n",
    "    qzs_1 = np.loadtxt(r\"utility\\SPACE_DATA\\michibiki.dat\", dtype=np.float, usecols=(0,4,5,6,7,8,9))\n",
    "    B_qzs = qzs_1.T\n",
    "\n",
    "    \"Subtract the bias from the magnetometer data\"\n",
    "    B_qzs[1] -= 60 # MAM-S1 X-Axis\n",
    "    B_qzs[2] -= 410 # MAM-S1 Y-Axis\n",
    "    B_qzs[3] -= -202 # MAM-S1 Z-Axis\n",
    "    B_qzs[4] -= -528 # MAM-S2 X-Axis\n",
    "    B_qzs[5] -= -200 # MAM-S2 Y-Axis\n",
    "    B_qzs[6] -= 478 # MAM-S2 Z-Axis\n",
    "\n",
    "    Bx = B_qzs[4] - B_qzs[1]\n",
    "    By = B_qzs[5] - B_qzs[2]\n",
    "    Bz = B_qzs[6] - B_qzs[3]\n",
    "    michibiki = np.vstack((Bx,By,Bz))\n",
    "    return(michibiki)\n",
    "\n",
    "def noiseArcjet(N, seed = 0):\n",
    "    # Defining a function that takes an integer N and an optional integer seed as parameters\n",
    "    \"Randomly Turn on and off signals\" # A docstring that describes the function\n",
    "    f = 500 # Setting a constant f\n",
    "    np.random.seed(seed) # Setting the random seed for reproducibility\n",
    "    zeros_ = np.random.choice([0, 1], size=(N // f + 1,), p=[3./10, 7./10]) # Generating an array of 0's and 1's with a 10% chance of 0 and a 90% chance of 1, with a size of N // f + 1\n",
    "    ones_ = np.ones(N) # Generating an array of 1's with a size of N\n",
    "    for i in range(N//f + 1): # Looping through the indices of the zeros_ array\n",
    "        if(zeros_[i] == 1): # If the element at the current index is 1\n",
    "            ones_[i*f:min((i+1)*f, N)] = 0 # Set the corresponding f elements or the remaining elements in the ones_ array to 0\n",
    "    return(ones_) # Return the ones_ array as the output\n",
    "\n",
    "def createMixingMatrix(seed, axis = 0):\n",
    "    random.seed(seed)\n",
    "    np.random.seed(seed)\n",
    "\n",
    "    \"Create Sensors\"\n",
    "    s1 = magpy.Sensor(position=(0,0,300), style_size=1.8)\n",
    "    s2 = magpy.Sensor(position=(0,0,600), style_size=1.8)\n",
    "    s = [s1,s2]\n",
    "    \n",
    "    \"Create Sources\"\n",
    "    d1 = magpy.current.Loop(current=150, diameter=10, orientation=st.Rotation.random(),  position=(random.randint(-35, 35), random.randint(-35, 35), random.randint(15, 285)))\n",
    "    d2 = magpy.current.Loop(current=150, diameter=10, orientation=st.Rotation.random(), position=(random.randint(-35, 35), random.randint(-35, 35), random.randint(15, 285)))    \n",
    "    d3 = magpy.current.Loop(current=150, diameter=10, orientation=st.Rotation.random(), position=(random.randint(-35, 35), random.randint(-35, 35), random.randint(15, 285)))\n",
    "    d4 = magpy.current.Loop(current=150, diameter=10, orientation=st.Rotation.random(), position=(random.randint(-35, 35), random.randint(-35, 35), random.randint(15, 285)))  \n",
    "    src = [d1,d2,d3,d4]\n",
    "\n",
    "    if False: plotNoiseFields([s1,s2],src)\n",
    "\n",
    "    \"Calculate Couplings\"\n",
    "    global alpha_couplings\n",
    "    alpha_couplings = np.sum(s1.getB(src), axis = 0)/ np.sum(s2.getB(src), axis = 0)\n",
    "\n",
    "    mixingMatrix = np.zeros((5,len(s)))\n",
    "    mixingMatrix[0] = np.ones(len(s))\n",
    "\n",
    "    for i in range(len(src)):\n",
    "        mixing_vector = (src[i].getB(s)*1e6).T[axis]\n",
    "        mixingMatrix[i+1] = mixing_vector\n",
    "\n",
    "    return(mixingMatrix.T)\n",
    "\n",
    "def randomizeSignals(N, seed = 0):\n",
    "    # Defining a function that takes an integer N and an optional integer seed as parameters\n",
    "    \"Randomly Turn on and off signals\" # A docstring that describes the function\n",
    "    f = 300 # Setting a constant f to 300\n",
    "    np.random.seed(seed) # Setting the random seed for reproducibility\n",
    "    zeros_ = np.random.choice([0, 1], size=(N // f + 1,), p=[1./10, 9./10]) # Generating an array of 0's and 1's with a 10% chance of 0 and a 90% chance of 1, with a size of N // f + 1\n",
    "    ones_ = np.ones(N) # Generating an array of 1's with a size of N\n",
    "    for i in range(N//f + 1): # Looping through the indices of the zeros_ array\n",
    "        if(zeros_[i] == 1): # If the element at the current index is 1\n",
    "            ones_[i*f:min((i+1)*f, N)] = 0 # Set the corresponding f elements or the remaining elements in the ones_ array to 0\n",
    "    return(ones_) # Return the ones_ array as the output\n",
    "\n",
    "def snr(x, y):\n",
    "  # x and y are numpy arrays of the same length\n",
    "  # x is the original signal and y is the noisy signal\n",
    "  # returns the SNR in decibels\n",
    "  x_mean = np.mean(x) # calculate the mean of x\n",
    "  num = np.sum((x - x_mean)**2) # calculate the numerator of SNR\n",
    "  den = np.sum((x - y)**2) # calculate the denominator of SNR\n",
    "  if den == 0: # avoid division by zero\n",
    "    return np.inf # return infinity if denominator is zero\n",
    "  else:\n",
    "    return 10 * np.log10(num / den) # return SNR in decibels\n",
    "\n"
   ]
  },
  {
   "cell_type": "markdown",
   "metadata": {},
   "source": [
    "Load Satellite Data"
   ]
  },
  {
   "cell_type": "code",
   "execution_count": 11,
   "metadata": {},
   "outputs": [
    {
     "name": "stderr",
     "output_type": "stream",
     "text": [
      "C:\\Users\\alexp\\AppData\\Local\\Temp\\ipykernel_29152\\4184457849.py:6: DtypeWarning: Columns (2,5,6,8,9) have mixed types. Specify dtype option on import or set low_memory=False.\n",
      "  df=pd.read_csv(r'utility\\SPACE_DATA\\Swarm_MAGA_HR_20150317_0900.csv', sep=',',header=None)\n",
      "C:\\Users\\alexp\\AppData\\Local\\Temp\\ipykernel_29152\\3122192582.py:26: DeprecationWarning: `np.float` is a deprecated alias for the builtin `float`. To silence this warning, use `float` by itself. Doing this will not modify any behavior and is safe. If you specifically wanted the numpy scalar type, use `np.float64` here.\n",
      "Deprecated in NumPy 1.20; for more details and guidance: https://numpy.org/devdocs/release/1.20.0-notes.html#deprecations\n",
      "  qzs_1 = np.loadtxt(r\"utility\\SPACE_DATA\\michibiki.dat\", dtype=np.float, usecols=(0,4,5,6,7,8,9))\n"
     ]
    }
   ],
   "source": [
    "duration = 100; sampleRate = 50; N = duration*sampleRate; T = 1/sampleRate\n",
    "samples = np.linspace(0, duration, N, endpoint=False)\n",
    "signals = np.zeros((5, samples.shape[0]))\n",
    "\n",
    "\"Import ambient magnetic field signal.\"\n",
    "df=pd.read_csv(r'utility\\SPACE_DATA\\Swarm_MAGA_HR_20150317_0900.csv', sep=',',header=None)\n",
    "r = df[10]\n",
    "swarm = np.array([np.fromstring(r[i][1:-1], dtype=float, sep=' ') for i in range(1, r.shape[0])]).T[:,160000:160000+N]\n",
    "\n",
    "\"Import Michibiki Data\"\n",
    "michibiki = noiseMichibiki()"
   ]
  },
  {
   "cell_type": "markdown",
   "metadata": {},
   "source": [
    "Create Source and Mixed Signals"
   ]
  },
  {
   "cell_type": "code",
   "execution_count": 26,
   "metadata": {},
   "outputs": [],
   "source": [
    "i = 3\n",
    "random.seed(i)\n",
    "np.random.seed(i)\n",
    "\n",
    "n = random.randint(0, michibiki.shape[-1]-5000)\n",
    "\n",
    "\"Create Source Signals\"\n",
    "signals[0] = swarm[0]\n",
    "signals[1] = noiseReactionWheel(sampleRate, N, np.random.randint(4,sampleRate//2), i) # Reaction Wheels\n",
    "signals[2] = (michibiki[0][n:n+5000]-np.mean(michibiki[0][n:n+5000]))/np.max(np.abs((michibiki[0][n:n+5000]-np.mean(michibiki[0][n:n+5000])))) # Michibiki\n",
    "signals[3] = noiseArcjet(N, i) # Arcjet\n",
    "signals[4] = signal.sawtooth(2 * np.pi * 3 * samples)*randomizeSignals(N,random.randint(0,100000))\n",
    "\n",
    "\"Create Mixing Matrices\"\n",
    "Kx = createMixingMatrix(i, 0)\n",
    "Ky = createMixingMatrix(i, 1)\n",
    "Kz = createMixingMatrix(i, 2)\n",
    "\n",
    "\"Create Mixed Signals\"\n",
    "Bx = Kx @ signals\n",
    "\n",
    "signals[0] = swarm[1]\n",
    "signals[2] = (michibiki[1][n:n+5000]-np.mean(michibiki[1][n:n+5000]))/np.max(np.abs((michibiki[1][n:n+5000]-np.mean(michibiki[1][n:n+5000]))))\n",
    "By = Ky @ signals\n",
    "\n",
    "signals[0] = swarm[2]\n",
    "signals[2] = (michibiki[2][n:n+5000]-np.mean(michibiki[2][n:n+5000]))/np.max(np.abs((michibiki[2][n:n+5000]-np.mean(michibiki[2][n:n+5000]))))\n",
    "Bz = Kz @ signals\n",
    "\n",
    "\"Create B\"\n",
    "B = np.array([Bx,By,Bz])\n",
    "B = np.swapaxes(B,0,1)\n"
   ]
  },
  {
   "cell_type": "markdown",
   "metadata": {},
   "source": [
    "Clean Data"
   ]
  },
  {
   "cell_type": "code",
   "execution_count": 31,
   "metadata": {},
   "outputs": [
    {
     "name": "stderr",
     "output_type": "stream",
     "text": [
      "c:\\Users\\alexp\\anaconda3\\lib\\site-packages\\pymssa\\optimized.py:228: NumbaPerformanceWarning: \u001b[1m\u001b[1m\u001b[1m\u001b[1m\u001b[1mnp.dot() is faster on contiguous arrays, called on (array(float64, 2d, A), array(float64, 2d, A))\u001b[0m\u001b[0m\u001b[0m\u001b[0m\u001b[0m\n",
      "  components = _incremental_component_reconstruction_inner(\n",
      "c:\\Users\\alexp\\anaconda3\\lib\\site-packages\\pymssa\\optimized.py:228: NumbaPerformanceWarning: \u001b[1m\u001b[1m\u001b[1m\u001b[1mnp.dot() is faster on contiguous arrays, called on (array(float64, 2d, A), array(float64, 2d, A))\u001b[0m\u001b[0m\u001b[0m\u001b[0m\n",
      "  components = _incremental_component_reconstruction_inner(\n"
     ]
    },
    {
     "name": "stdout",
     "output_type": "stream",
     "text": [
      "SNR:  [61.152997   81.01783952 98.16666426]\n",
      "SNR:  [0.98657906 0.95814532 0.88413872]\n",
      "SNR:  [11.91106605  8.87785234 -4.54628409]\n"
     ]
    }
   ],
   "source": [
    "from algorithms import MSSA\n",
    "\n",
    "MSSA.window_size = 500\n",
    "MSSA.uf = 500\n",
    "MSSA.detrend = True\n",
    "\n",
    "B_clean = MSSA.clean(np.copy(B))\n",
    "\n",
    "rmse= np.sqrt(((swarm.T-B_clean.T)**2).mean(axis=0))\n",
    "corr = np.zeros(3); snr_ = np.zeros(3)\n",
    "for j in range(3):\n",
    "    corr[j] = np.corrcoef(swarm[j], B_clean[j])[0,1]\n",
    "    snr_[j] = snr(swarm[j], B_clean[j])\n",
    "\n",
    "print(\"RMSE: \", rmse)\n",
    "print(\"Correlation: \", corr)\n",
    "print(\"SNR: \", snr_)"
   ]
  },
  {
   "cell_type": "code",
   "execution_count": 1,
   "metadata": {},
   "outputs": [
    {
     "ename": "NameError",
     "evalue": "name 'plt' is not defined",
     "output_type": "error",
     "traceback": [
      "\u001b[1;31m---------------------------------------------------------------------------\u001b[0m",
      "\u001b[1;31mNameError\u001b[0m                                 Traceback (most recent call last)",
      "Cell \u001b[1;32mIn[1], line 1\u001b[0m\n\u001b[1;32m----> 1\u001b[0m fig, ax \u001b[38;5;241m=\u001b[39m \u001b[43mplt\u001b[49m\u001b[38;5;241m.\u001b[39msubplots(\u001b[38;5;241m1\u001b[39m,\u001b[38;5;241m1\u001b[39m, figsize\u001b[38;5;241m=\u001b[39m(\u001b[38;5;241m8\u001b[39m,\u001b[38;5;241m5\u001b[39m))\n\u001b[0;32m      3\u001b[0m plt\u001b[38;5;241m.\u001b[39mplot(B_clean\u001b[38;5;241m.\u001b[39mT, label\u001b[38;5;241m=\u001b[39m[\u001b[38;5;124m'\u001b[39m\u001b[38;5;124mx\u001b[39m\u001b[38;5;124m'\u001b[39m,\u001b[38;5;124m'\u001b[39m\u001b[38;5;124my\u001b[39m\u001b[38;5;124m'\u001b[39m,\u001b[38;5;124m'\u001b[39m\u001b[38;5;124mz\u001b[39m\u001b[38;5;124m'\u001b[39m])\n\u001b[0;32m      4\u001b[0m plt\u001b[38;5;241m.\u001b[39mplot(swarm\u001b[38;5;241m.\u001b[39mT, color \u001b[38;5;241m=\u001b[39m \u001b[38;5;124m'\u001b[39m\u001b[38;5;124mblack\u001b[39m\u001b[38;5;124m'\u001b[39m, linestyle \u001b[38;5;241m=\u001b[39m \u001b[38;5;124m'\u001b[39m\u001b[38;5;124m--\u001b[39m\u001b[38;5;124m'\u001b[39m)\n",
      "\u001b[1;31mNameError\u001b[0m: name 'plt' is not defined"
     ]
    }
   ],
   "source": [
    "fig, ax = plt.subplots(1,1, figsize=(8,5))\n",
    "\n",
    "plt.plot(B_clean.T, label=['x','y','z'])\n",
    "plt.plot(swarm.T, color = 'black', linestyle = '--')\n",
    "plt.xlabel(\"Sample Number\"); plt.ylabel(\"Magnetic Field (nT)\")\n",
    "plt.legend()\n",
    "plt.title(\"Cleaned Magnetic Field Data\")\n",
    "\n",
    "\n",
    "fig, ax = plt.subplots(1,1, figsize=(8,5))\n",
    "plt.plot(B[0].T, label=['x','y','z'])\n",
    "plt.plot(swarm.T, color = 'black', linestyle = '--')\n",
    "plt.xlabel(\"Sample Number\"); plt.ylabel(\"Magnetic Field (nT)\")\n",
    "plt.legend()\n",
    "plt.title(\"Noisy Magnetic Field Data\")"
   ]
  },
  {
   "cell_type": "code",
   "execution_count": null,
   "metadata": {},
   "outputs": [],
   "source": []
  }
 ],
 "metadata": {
  "kernelspec": {
   "display_name": "base",
   "language": "python",
   "name": "python3"
  },
  "language_info": {
   "codemirror_mode": {
    "name": "ipython",
    "version": 3
   },
   "file_extension": ".py",
   "mimetype": "text/x-python",
   "name": "python",
   "nbconvert_exporter": "python",
   "pygments_lexer": "ipython3",
   "version": "3.9.16"
  }
 },
 "nbformat": 4,
 "nbformat_minor": 2
}
