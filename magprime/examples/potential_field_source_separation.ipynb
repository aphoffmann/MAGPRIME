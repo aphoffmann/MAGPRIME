{
 "cells": [
  {
   "cell_type": "markdown",
   "id": "44b3fbc1",
   "metadata": {},
   "source": [
    "# Spatial Signal Separation for Geological magnetic surveys"
   ]
  },
  {
   "cell_type": "code",
   "execution_count": null,
   "id": "b7a1da0c",
   "metadata": {},
   "outputs": [
    {
     "ename": "ImportError",
     "evalue": "attempted relative import with no known parent package",
     "output_type": "error",
     "traceback": [
      "\u001b[31m---------------------------------------------------------------------------\u001b[39m",
      "\u001b[31mImportError\u001b[39m                               Traceback (most recent call last)",
      "\u001b[36mCell\u001b[39m\u001b[36m \u001b[39m\u001b[32mIn[4]\u001b[39m\u001b[32m, line 4\u001b[39m\n\u001b[32m      2\u001b[39m \u001b[38;5;28;01mimport\u001b[39;00m\u001b[38;5;250m \u001b[39m\u001b[34;01mnumpy\u001b[39;00m\u001b[38;5;250m \u001b[39m\u001b[38;5;28;01mas\u001b[39;00m\u001b[38;5;250m \u001b[39m\u001b[34;01mnp\u001b[39;00m\n\u001b[32m      3\u001b[39m \u001b[38;5;28;01mimport\u001b[39;00m\u001b[38;5;250m \u001b[39m\u001b[34;01mmatplotlib\u001b[39;00m\u001b[34;01m.\u001b[39;00m\u001b[34;01mpyplot\u001b[39;00m\u001b[38;5;250m \u001b[39m\u001b[38;5;28;01mas\u001b[39;00m\u001b[38;5;250m \u001b[39m\u001b[34;01mplt\u001b[39;00m\n\u001b[32m----> \u001b[39m\u001b[32m4\u001b[39m \u001b[38;5;28;01mfrom\u001b[39;00m\u001b[38;5;250m \u001b[39m\u001b[34;01m.\u001b[39;00m\u001b[34;01mmagprime\u001b[39;00m\u001b[34;01m.\u001b[39;00m\u001b[34;01malgorithms\u001b[39;00m\u001b[38;5;250m \u001b[39m\u001b[38;5;28;01mimport\u001b[39;00m PFSS\n",
      "\u001b[31mImportError\u001b[39m: attempted relative import with no known parent package"
     ]
    }
   ],
   "source": [
    "import magpylib as magpy\n",
    "import numpy as np\n",
    "import matplotlib.pyplot as plt\n",
    "from magprime.algorithms import PFSS"
   ]
  },
  {
   "cell_type": "markdown",
   "id": "65de4c3b",
   "metadata": {},
   "source": [
    "#### Create Simulation"
   ]
  },
  {
   "cell_type": "code",
   "execution_count": 2,
   "id": "7d51f394",
   "metadata": {},
   "outputs": [],
   "source": [
    "\"10m x 10 m grid\"\n",
    "m1 = magpy.misc.Dipole(moment=(0.522, -0.904, 0.930), position=(0, 0, 0))\n",
    "m2 = magpy.misc.Dipole(moment=(0.222, 0.504, -0.430), position=(1, -2, 0))\n",
    "m3 = magpy.misc.Dipole(moment=(0.522, -0.904, 0.930), position=(4, 1, 0))\n",
    "m4 = magpy.misc.Dipole(moment=(0.222, 0.504, -0.430), position=(-3, -2, 0))\n",
    "m5 = magpy.misc.Dipole(moment=(0.522, -0.904, 0.930), position=(2, 4, 0))\n",
    "m6 = magpy.misc.Dipole(moment=(0.222, 0.504, -0.430), position=(-4, 0, 0))\n",
    "m7 = magpy.misc.Dipole(moment=(0.522, -0.904, 0.930), position=(1, 1, 0))\n",
    "m8 = magpy.misc.Dipole(moment=(0.222, 0.504, -0.430), position=(2, -2, 0))\n",
    "background = magpy.misc.Dipole(moment=(0,1000,10000), position=(10, 10, 0))\n",
    "\n",
    "collection = magpy.Collection(m1, m2, m3, m4, m5, m6, m7, m8, background)\n",
    "ts = np.linspace(-5, 5, 50)\n",
    "grid = np.array([[(x, y, .5) for x in ts] for y in ts])\n",
    "B = collection.getB(grid)\n",
    "B = np.moveaxis(B, -1, 0)\n",
    "Bmag = np.linalg.norm(B, axis=0)   "
   ]
  },
  {
   "cell_type": "markdown",
   "id": "3c9f9e24",
   "metadata": {},
   "source": [
    "#### Separate Regional Anomalies from Background Field"
   ]
  },
  {
   "cell_type": "code",
   "execution_count": 3,
   "id": "f364a0ff",
   "metadata": {},
   "outputs": [
    {
     "ename": "NameError",
     "evalue": "name 'PFSS' is not defined",
     "output_type": "error",
     "traceback": [
      "\u001b[31m---------------------------------------------------------------------------\u001b[39m",
      "\u001b[31mNameError\u001b[39m                                 Traceback (most recent call last)",
      "\u001b[36mCell\u001b[39m\u001b[36m \u001b[39m\u001b[32mIn[3]\u001b[39m\u001b[32m, line 1\u001b[39m\n\u001b[32m----> \u001b[39m\u001b[32m1\u001b[39m Xd, Xs = \u001b[43mPFSS\u001b[49m.pfss(Bmag, \u001b[32m5\u001b[39m, beta=\u001b[32m0.5\u001b[39m, max_iter=\u001b[32m100\u001b[39m, eps=\u001b[32m1e-4\u001b[39m, verbose=\u001b[38;5;28;01mFalse\u001b[39;00m)\n",
      "\u001b[31mNameError\u001b[39m: name 'PFSS' is not defined"
     ]
    }
   ],
   "source": [
    "Xd, Xs = PFSS.pfss(Bmag, 5, beta=0.5, max_iter=100, eps=1e-4, verbose=False)"
   ]
  },
  {
   "cell_type": "code",
   "execution_count": null,
   "id": "0c42f6ae",
   "metadata": {},
   "outputs": [],
   "source": [
    "fig, ax = plt.subplots(1,3, figsize = (10, 4), sharex=True)\n",
    "ax[0].imshow(np.log(Bmag+1e-3), extent=[-5, 5, -5, 5], origin='lower')\n",
    "ax[0].set_title(\"Mixed Field\")\n",
    "\n",
    "# Overlay dipole locations\n",
    "positions = np.array([m.position[:2] for m in (m1, m2, m3, m4, m5, m6, m7, m8)])\n",
    "ax[0].scatter(positions[:,0], positions[:,1], marker='x')\n",
    "\n",
    "ax[1].imshow(np.log(Xd+1e-3), extent=[-5, 5, -5, 5], origin='lower')\n",
    "ax[1].set_title(\"Regional Field\")\n",
    "\n",
    "ax[2].imshow(np.log(Xs+1e-3), extent=[-5, 5, -5, 5], origin='lower')\n",
    "ax[2].set_title(\"Anomaly Field\")\n",
    "\n",
    "ax[0].set_xlabel('x (m)')\n",
    "ax[2].set_xlabel('x (m)')\n",
    "ax[1].set_xlabel('x (m)')\n",
    "ax[0].set_ylabel('y (m)')"
   ]
  },
  {
   "cell_type": "markdown",
   "id": "5cc3d92a",
   "metadata": {},
   "source": [
    "# Singular Spectrum Analysis"
   ]
  },
  {
   "cell_type": "code",
   "execution_count": null,
   "id": "ad297663",
   "metadata": {},
   "outputs": [],
   "source": [
    "comps = PFSS.ssa(Bmag, 10)"
   ]
  },
  {
   "cell_type": "code",
   "execution_count": null,
   "id": "9484cdc3",
   "metadata": {},
   "outputs": [],
   "source": [
    "fig, ax = plt.subplots(1,3, figsize = (10, 4), sharex=True)\n",
    "ax[0].imshow(np.log(comps[0]+1e-3), extent=[-5, 5, -5, 5], origin='lower')\n",
    "ax[0].set_title(\"Comp 0\")\n",
    "\n",
    "ax[1].imshow(np.log(comps[1]+1e-3), extent=[-5, 5, -5, 5], origin='lower')\n",
    "ax[1].set_title(\"Comp 1\")\n",
    "\n",
    "ax[2].imshow(np.log(comps[2]), extent=[-5, 5, -5, 5], origin='lower')\n",
    "ax[2].set_title(\"Comp 2\")\n",
    "ax[0].set_xlabel('x (m)')\n",
    "ax[2].set_xlabel('x (m)')\n",
    "ax[1].set_xlabel('x (m)')\n",
    "ax[0].set_ylabel('y (m)')"
   ]
  }
 ],
 "metadata": {
  "kernelspec": {
   "display_name": "mag",
   "language": "python",
   "name": "python3"
  },
  "language_info": {
   "codemirror_mode": {
    "name": "ipython",
    "version": 3
   },
   "file_extension": ".py",
   "mimetype": "text/x-python",
   "name": "python",
   "nbconvert_exporter": "python",
   "pygments_lexer": "ipython3",
   "version": "3.13.2"
  }
 },
 "nbformat": 4,
 "nbformat_minor": 5
}
